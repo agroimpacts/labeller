{
 "cells": [
  {
   "cell_type": "code",
   "execution_count": 8,
   "metadata": {},
   "outputs": [],
   "source": [
    "import geopandas as gpd\n",
    "import pandas as pd\n",
    "import rasterio as rio\n",
    "import skimage.io as skio\n",
    "import matplotlib.pyplot as plt\n",
    "import os"
   ]
  },
  {
   "cell_type": "code",
   "execution_count": 38,
   "metadata": {},
   "outputs": [],
   "source": [
    "master_path = \"/home/rave/Downloads/master_grid_july17.tif\"\n",
    "catalog_path = \"/home/rave/mapperAL2/spatial/python/planet/catalog/output.csv\""
   ]
  },
  {
   "cell_type": "code",
   "execution_count": 10,
   "metadata": {},
   "outputs": [],
   "source": [
    "catalog_df = pd.read_csv(catalog_path)"
   ]
  },
  {
   "cell_type": "code",
   "execution_count": 12,
   "metadata": {},
   "outputs": [
    {
     "data": {
      "text/html": [
       "<div>\n",
       "<style scoped>\n",
       "    .dataframe tbody tr th:only-of-type {\n",
       "        vertical-align: middle;\n",
       "    }\n",
       "\n",
       "    .dataframe tbody tr th {\n",
       "        vertical-align: top;\n",
       "    }\n",
       "\n",
       "    .dataframe thead th {\n",
       "        text-align: right;\n",
       "    }\n",
       "</style>\n",
       "<table border=\"1\" class=\"dataframe\">\n",
       "  <thead>\n",
       "    <tr style=\"text-align: right;\">\n",
       "      <th></th>\n",
       "      <th>cell_id</th>\n",
       "      <th>scene_id</th>\n",
       "      <th>col</th>\n",
       "      <th>row</th>\n",
       "      <th>season</th>\n",
       "      <th>uri</th>\n",
       "    </tr>\n",
       "  </thead>\n",
       "  <tbody>\n",
       "    <tr>\n",
       "      <th>0</th>\n",
       "      <td>47884689</td>\n",
       "      <td>20180810_102915_0f4d</td>\n",
       "      <td>3295</td>\n",
       "      <td>5391</td>\n",
       "      <td>GS</td>\n",
       "      <td>catalog/analytic_sr/GS/20180810_102915_0f4d.tif</td>\n",
       "    </tr>\n",
       "    <tr>\n",
       "      <th>1</th>\n",
       "      <td>47884692</td>\n",
       "      <td>20180810_102915_0f4d</td>\n",
       "      <td>3298</td>\n",
       "      <td>5391</td>\n",
       "      <td>GS</td>\n",
       "      <td>catalog/analytic_sr/GS/20180810_102915_0f4d.tif</td>\n",
       "    </tr>\n",
       "    <tr>\n",
       "      <th>2</th>\n",
       "      <td>47884693</td>\n",
       "      <td>20180810_102915_0f4d</td>\n",
       "      <td>3299</td>\n",
       "      <td>5391</td>\n",
       "      <td>GS</td>\n",
       "      <td>catalog/analytic_sr/GS/20180810_102915_0f4d.tif</td>\n",
       "    </tr>\n",
       "    <tr>\n",
       "      <th>3</th>\n",
       "      <td>47884694</td>\n",
       "      <td>20180810_102915_0f4d</td>\n",
       "      <td>3300</td>\n",
       "      <td>5391</td>\n",
       "      <td>GS</td>\n",
       "      <td>catalog/analytic_sr/GS/20180810_102915_0f4d.tif</td>\n",
       "    </tr>\n",
       "    <tr>\n",
       "      <th>4</th>\n",
       "      <td>47884691</td>\n",
       "      <td>20180810_102915_0f4d</td>\n",
       "      <td>3297</td>\n",
       "      <td>5391</td>\n",
       "      <td>GS</td>\n",
       "      <td>catalog/analytic_sr/GS/20180810_102915_0f4d.tif</td>\n",
       "    </tr>\n",
       "  </tbody>\n",
       "</table>\n",
       "</div>"
      ],
      "text/plain": [
       "    cell_id              scene_id   col   row season  \\\n",
       "0  47884689  20180810_102915_0f4d  3295  5391     GS   \n",
       "1  47884692  20180810_102915_0f4d  3298  5391     GS   \n",
       "2  47884693  20180810_102915_0f4d  3299  5391     GS   \n",
       "3  47884694  20180810_102915_0f4d  3300  5391     GS   \n",
       "4  47884691  20180810_102915_0f4d  3297  5391     GS   \n",
       "\n",
       "                                               uri  \n",
       "0  catalog/analytic_sr/GS/20180810_102915_0f4d.tif  \n",
       "1  catalog/analytic_sr/GS/20180810_102915_0f4d.tif  \n",
       "2  catalog/analytic_sr/GS/20180810_102915_0f4d.tif  \n",
       "3  catalog/analytic_sr/GS/20180810_102915_0f4d.tif  \n",
       "4  catalog/analytic_sr/GS/20180810_102915_0f4d.tif  "
      ]
     },
     "execution_count": 12,
     "metadata": {},
     "output_type": "execute_result"
    }
   ],
   "source": [
    "catalog_df.head()"
   ]
  },
  {
   "cell_type": "code",
   "execution_count": 18,
   "metadata": {},
   "outputs": [
    {
     "name": "stderr",
     "output_type": "stream",
     "text": [
      "/home/rave/anaconda3/lib/python3.6/site-packages/ipykernel/__main__.py:1: UserWarning: Boolean Series key will be reindexed to match DataFrame index.\n",
      "  if __name__ == '__main__':\n"
     ]
    }
   ],
   "source": [
    "cell_ids = list(catalog_df[catalog_df.season=='GS'][catalog_df.scene_id=='20180810_102915_0f4d'].cell_id)"
   ]
  },
  {
   "cell_type": "code",
   "execution_count": 56,
   "metadata": {},
   "outputs": [
    {
     "data": {
      "text/plain": [
       "CRS({'init': 'epsg:4326'})"
      ]
     },
     "execution_count": 56,
     "metadata": {},
     "output_type": "execute_result"
    }
   ],
   "source": [
    "master_raster = rio.open(master_path, crs=ex.crs)\n",
    "crs_path = '/home/rave/cropmask/data/raw/stephtest/projectedtiffs/08_MS_GS.tif'\n",
    "ex = rio.open(crs_path)\n",
    "ex.crs"
   ]
  },
  {
   "cell_type": "code",
   "execution_count": null,
   "metadata": {},
   "outputs": [
    {
     "name": "stderr",
     "output_type": "stream",
     "text": [
      "/home/rave/anaconda3/lib/python3.6/site-packages/skimage/external/tifffile/tifffile.py:2611: RuntimeWarning: py_decodelzw encountered unexpected end of stream\n",
      "  strip = decompress(strip)\n",
      "/home/rave/anaconda3/lib/python3.6/site-packages/skimage/external/tifffile/tifffile.py:2546: UserWarning: unpack: string size must be a multiple of element size\n",
      "  warnings.warn(\"unpack: %s\" % e)\n"
     ]
    }
   ],
   "source": [
    "master_arr = skio.imread(master_path)\n"
   ]
  },
  {
   "cell_type": "code",
   "execution_count": 55,
   "metadata": {},
   "outputs": [
    {
     "name": "stderr",
     "output_type": "stream",
     "text": [
      "/home/rave/anaconda3/lib/python3.6/site-packages/ipykernel/__main__.py:1: RasterioDeprecationWarning: Creation keywords stored on datasets by Rasterio versions < 1.0b1 will always be ignored in version 1.0. You may opt in to ignoring them now by setting RIO_IGNORE_CREATION_KWDS=TRUE in your environment.\n",
      "  if __name__ == '__main__':\n"
     ]
    },
    {
     "data": {
      "text/plain": [
       "{'driver': 'GTiff', 'dtype': 'uint32', 'nodata': 2147483647.0, 'width': 13792, 'height': 14477, 'count': 7, 'crs': None, 'transform': Affine(0.004999999999999999, 0.0, -17.541,\n",
       "       0.0, -0.004999999999999999, 37.54), 'tiled': False, 'compress': 'lzw', 'interleave': 'pixel'}"
      ]
     },
     "execution_count": 55,
     "metadata": {},
     "output_type": "execute_result"
    }
   ],
   "source": [
    "# Register GDAL format drivers and configuration options with a\n",
    "# context manager.\n",
    "with rasterio.Env():\n",
    "\n",
    "    # Write an array as a raster band to a new 8-bit file. For\n",
    "    # the new file's profile, we start with the profile of the source\n",
    "    profile = master_raster.profile\n",
    "\n",
    "#     # And then change the band count to 1, set the\n",
    "#     # dtype to uint8, and specify LZW compression.\n",
    "#     profile.update(\n",
    "#         dtype=rasterio.uint8,\n",
    "#         count=1,\n",
    "#         compress='lzw')\n",
    "\n",
    "    with rasterio.open('/home/rave/Downloads/grids_for_20180810_102915_0f4d.tif', 'w', **profile) as dst:\n",
    "        dst.write(array.astype(rasterio.uint8), 1)"
   ]
  }
 ],
 "metadata": {
  "kernelspec": {
   "display_name": "Python [conda env:anaconda3]",
   "language": "python",
   "name": "conda-env-anaconda3-py"
  },
  "language_info": {
   "codemirror_mode": {
    "name": "ipython",
    "version": 3
   },
   "file_extension": ".py",
   "mimetype": "text/x-python",
   "name": "python",
   "nbconvert_exporter": "python",
   "pygments_lexer": "ipython3",
   "version": "3.6.4"
  }
 },
 "nbformat": 4,
 "nbformat_minor": 2
}
